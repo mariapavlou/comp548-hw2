{
 "cells": [
  {
   "cell_type": "code",
   "execution_count": 2,
   "metadata": {},
   "outputs": [
    {
     "name": "stdout",
     "output_type": "stream",
     "text": [
      "env: GOOGLE_APPLICATION_CREDENTIALS=/Users/mariapavlou/Downloads/comp-548-ad7a1db0f762.json\n"
     ]
    }
   ],
   "source": [
    "%env GOOGLE_APPLICATION_CREDENTIALS=/Users/mariapavlou/Downloads/comp-548-ad7a1db0f762.json"
   ]
  },
  {
   "cell_type": "code",
   "execution_count": null,
   "metadata": {},
   "outputs": [],
   "source": [
    "import sys\n",
    "!{sys.executable} -m pip install --upgrade google-cloud-firestore"
   ]
  },
  {
   "cell_type": "code",
   "execution_count": 9,
   "metadata": {},
   "outputs": [],
   "source": [
    "from google.cloud import firestore\n",
    "\n",
    "# Initialize the Firestore client using the service account key file\n",
    "db = firestore.Client.from_service_account_json(\"Users/mariapavlou/Downloads/comp-548-ad7a1db0f762.json\")\n"
   ]
  },
  {
   "cell_type": "code",
   "execution_count": 10,
   "metadata": {},
   "outputs": [],
   "source": [
    "def add_user(user_id, name, email):\n",
    "    user_ref = db.collection(\"users\").document(user_id)\n",
    "    user_ref.set({\n",
    "        \"name\": name,\n",
    "        \"email\": email\n",
    "    })\n",
    "\n",
    "add_user(\"user_1\", \"Danae\", \"danae@example.com\")\n",
    "add_user(\"user_2\", \"Nick\", \"nick@example.com\")\n",
    "\n"
   ]
  },
  {
   "cell_type": "code",
   "execution_count": 11,
   "metadata": {},
   "outputs": [],
   "source": [
    "def add_document(document_id, title, created_at):\n",
    "    doc_ref = db.collection(\"documents\").document(document_id)\n",
    "    doc_ref.set({\n",
    "        \"title\": title,\n",
    "        \"created_at\": created_at\n",
    "    })\n",
    "\n",
    "def add_collaborator(document_id, user_id, added_at):\n",
    "    collab_ref = db.collection(\"documents\").document(document_id).collection(\"collaborators\").document(user_id)\n",
    "    collab_ref.set({\n",
    "        \"user_id\": user_id,\n",
    "        \"added_at\": added_at\n",
    "    })\n",
    "\n",
    "def add_edit(document_id, user_id, edit_timestamp, content_added):\n",
    "    edit_ref = db.collection(\"documents\").document(document_id).collection(\"edits\").document()\n",
    "    edit_ref.set({\n",
    "        \"user_id\": user_id,\n",
    "        \"edit_timestamp\": edit_timestamp,\n",
    "        \"content_added\": content_added\n",
    "    })\n",
    "\n",
    "add_document(\"doc_1\", \"Project Proposal\", \"2024-11-01T12:00:00Z\")\n",
    "\n",
    "add_collaborator(\"doc_1\", \"user_1\", \"2024-11-02T15:00:00Z\")\n",
    "add_collaborator(\"doc_1\", \"user_2\", \"2024-11-03T16:00:00Z\")\n",
    "\n",
    "\n",
    "add_edit(\"doc_1\", \"user_1\", \"2024-11-02T10:00:00Z\", \"Initial content of the document.\")\n",
    "add_edit(\"doc_1\", \"user_2\", \"2024-11-03T11:00:00Z\", \"Additional content added by another user.\")\n"
   ]
  },
  {
   "cell_type": "code",
   "execution_count": 12,
   "metadata": {},
   "outputs": [
    {
     "name": "stdout",
     "output_type": "stream",
     "text": [
      "Collaborators for doc_1: [{'added_at': '2024-11-02T15:00:00Z', 'user_id': 'user_1'}, {'added_at': '2024-11-03T16:00:00Z', 'user_id': 'user_2'}]\n"
     ]
    }
   ],
   "source": [
    "def get_collaborators(document_id):\n",
    "    collab_ref = db.collection(\"documents\").document(document_id).collection(\"collaborators\")\n",
    "    docs = collab_ref.stream()\n",
    "    collaborators = []\n",
    "    for doc in docs:\n",
    "        collaborators.append(doc.to_dict())\n",
    "    return collaborators\n",
    "\n",
    "\n",
    "print(\"Collaborators for doc_1:\", get_collaborators(\"doc_1\"))\n"
   ]
  },
  {
   "cell_type": "code",
   "execution_count": 13,
   "metadata": {},
   "outputs": [
    {
     "name": "stdout",
     "output_type": "stream",
     "text": [
      "Edits for doc_1: [{'user_id': 'user_1', 'content_added': 'Initial content of the document.', 'edit_timestamp': '2024-11-02T10:00:00Z'}, {'user_id': 'user_2', 'content_added': 'Additional content added by another user.', 'edit_timestamp': '2024-11-03T11:00:00Z'}]\n"
     ]
    }
   ],
   "source": [
    "def get_edits(document_id):\n",
    "    edits_ref = db.collection(\"documents\").document(document_id).collection(\"edits\")\n",
    "    docs = edits_ref.stream()\n",
    "    edits = []\n",
    "    for doc in docs:\n",
    "        edits.append(doc.to_dict())\n",
    "    return edits\n",
    "\n",
    "print(\"Edits for doc_1:\", get_edits(\"doc_1\"))\n"
   ]
  },
  {
   "cell_type": "code",
   "execution_count": 14,
   "metadata": {},
   "outputs": [
    {
     "name": "stdout",
     "output_type": "stream",
     "text": [
      "Edits by user_1 on doc_1: [{'user_id': 'user_1', 'content_added': 'Initial content of the document.', 'edit_timestamp': '2024-11-02T10:00:00Z'}]\n"
     ]
    },
    {
     "name": "stderr",
     "output_type": "stream",
     "text": [
      "/Users/mariapavlou/anaconda3/lib/python3.11/site-packages/google/cloud/firestore_v1/base_collection.py:304: UserWarning: Detected filter using positional arguments. Prefer using the 'filter' keyword argument instead.\n",
      "  return query.where(field_path, op_string, value)\n"
     ]
    }
   ],
   "source": [
    "def get_user_edits(document_id, user_id):\n",
    "    edits_ref = db.collection(\"documents\").document(document_id).collection(\"edits\")\n",
    "    query = edits_ref.where(\"user_id\", \"==\", user_id)\n",
    "    docs = query.stream()\n",
    "    user_edits = []\n",
    "    for doc in docs:\n",
    "        user_edits.append(doc.to_dict())\n",
    "    return user_edits\n",
    "\n",
    "print(\"Edits by user_1 on doc_1:\", get_user_edits(\"doc_1\", \"user_1\"))\n"
   ]
  }
 ],
 "metadata": {
  "kernelspec": {
   "display_name": "Python 3.11.5 ('base')",
   "language": "python",
   "name": "python3"
  },
  "language_info": {
   "codemirror_mode": {
    "name": "ipython",
    "version": 3
   },
   "file_extension": ".py",
   "mimetype": "text/x-python",
   "name": "python",
   "nbconvert_exporter": "python",
   "pygments_lexer": "ipython3",
   "version": "3.11.5"
  },
  "orig_nbformat": 4,
  "vscode": {
   "interpreter": {
    "hash": "85fecc9bbadfd66cf3a1bf1795b1f835724352be9afc1f6b6ad8b247808678a9"
   }
  }
 },
 "nbformat": 4,
 "nbformat_minor": 2
}
